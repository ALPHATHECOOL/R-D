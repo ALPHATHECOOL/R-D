{
  "cells": [
    {
      "cell_type": "code",
      "source": [
        "from google.colab import drive\n",
        "drive.mount('/content/gdrive', force_remount=True)"
      ],
      "metadata": {
        "colab": {
          "base_uri": "https://localhost:8080/"
        },
        "id": "tt82VWBJYpMk",
        "outputId": "841f0534-afc2-4b08-934e-f69c8ab7c4ef"
      },
      "execution_count": 1,
      "outputs": [
        {
          "output_type": "stream",
          "name": "stdout",
          "text": [
            "Mounted at /content/gdrive\n"
          ]
        }
      ]
    },
    {
      "cell_type": "code",
      "source": [
        "import os\n",
        "os.chdir('/content/gdrive/MyDrive')"
      ],
      "metadata": {
        "id": "FiAXJFocYqeE"
      },
      "execution_count": 2,
      "outputs": []
    },
    {
      "cell_type": "markdown",
      "source": [
        "### d4rl utils"
      ],
      "metadata": {
        "id": "JU9LKbGuWBnd"
      }
    },
    {
      "cell_type": "code",
      "source": [
        "!pip install torch numpy matplotlib"
      ],
      "metadata": {
        "id": "fyZR8OVMJid1",
        "colab": {
          "base_uri": "https://localhost:8080/"
        },
        "outputId": "30e52c8c-bacc-4277-92c8-910b6b6ac556"
      },
      "execution_count": 3,
      "outputs": [
        {
          "output_type": "stream",
          "name": "stdout",
          "text": [
            "Requirement already satisfied: torch in /usr/local/lib/python3.11/dist-packages (2.5.1+cu121)\n",
            "Requirement already satisfied: numpy in /usr/local/lib/python3.11/dist-packages (1.26.4)\n",
            "Requirement already satisfied: matplotlib in /usr/local/lib/python3.11/dist-packages (3.10.0)\n",
            "Requirement already satisfied: filelock in /usr/local/lib/python3.11/dist-packages (from torch) (3.16.1)\n",
            "Requirement already satisfied: typing-extensions>=4.8.0 in /usr/local/lib/python3.11/dist-packages (from torch) (4.12.2)\n",
            "Requirement already satisfied: networkx in /usr/local/lib/python3.11/dist-packages (from torch) (3.4.2)\n",
            "Requirement already satisfied: jinja2 in /usr/local/lib/python3.11/dist-packages (from torch) (3.1.5)\n",
            "Requirement already satisfied: fsspec in /usr/local/lib/python3.11/dist-packages (from torch) (2024.10.0)\n",
            "Requirement already satisfied: nvidia-cuda-nvrtc-cu12==12.1.105 in /usr/local/lib/python3.11/dist-packages (from torch) (12.1.105)\n",
            "Requirement already satisfied: nvidia-cuda-runtime-cu12==12.1.105 in /usr/local/lib/python3.11/dist-packages (from torch) (12.1.105)\n",
            "Requirement already satisfied: nvidia-cuda-cupti-cu12==12.1.105 in /usr/local/lib/python3.11/dist-packages (from torch) (12.1.105)\n",
            "Requirement already satisfied: nvidia-cudnn-cu12==9.1.0.70 in /usr/local/lib/python3.11/dist-packages (from torch) (9.1.0.70)\n",
            "Requirement already satisfied: nvidia-cublas-cu12==12.1.3.1 in /usr/local/lib/python3.11/dist-packages (from torch) (12.1.3.1)\n",
            "Requirement already satisfied: nvidia-cufft-cu12==11.0.2.54 in /usr/local/lib/python3.11/dist-packages (from torch) (11.0.2.54)\n",
            "Requirement already satisfied: nvidia-curand-cu12==10.3.2.106 in /usr/local/lib/python3.11/dist-packages (from torch) (10.3.2.106)\n",
            "Requirement already satisfied: nvidia-cusolver-cu12==11.4.5.107 in /usr/local/lib/python3.11/dist-packages (from torch) (11.4.5.107)\n",
            "Requirement already satisfied: nvidia-cusparse-cu12==12.1.0.106 in /usr/local/lib/python3.11/dist-packages (from torch) (12.1.0.106)\n",
            "Requirement already satisfied: nvidia-nccl-cu12==2.21.5 in /usr/local/lib/python3.11/dist-packages (from torch) (2.21.5)\n",
            "Requirement already satisfied: nvidia-nvtx-cu12==12.1.105 in /usr/local/lib/python3.11/dist-packages (from torch) (12.1.105)\n",
            "Requirement already satisfied: triton==3.1.0 in /usr/local/lib/python3.11/dist-packages (from torch) (3.1.0)\n",
            "Requirement already satisfied: sympy==1.13.1 in /usr/local/lib/python3.11/dist-packages (from torch) (1.13.1)\n",
            "Requirement already satisfied: nvidia-nvjitlink-cu12 in /usr/local/lib/python3.11/dist-packages (from nvidia-cusolver-cu12==11.4.5.107->torch) (12.6.85)\n",
            "Requirement already satisfied: mpmath<1.4,>=1.1.0 in /usr/local/lib/python3.11/dist-packages (from sympy==1.13.1->torch) (1.3.0)\n",
            "Requirement already satisfied: contourpy>=1.0.1 in /usr/local/lib/python3.11/dist-packages (from matplotlib) (1.3.1)\n",
            "Requirement already satisfied: cycler>=0.10 in /usr/local/lib/python3.11/dist-packages (from matplotlib) (0.12.1)\n",
            "Requirement already satisfied: fonttools>=4.22.0 in /usr/local/lib/python3.11/dist-packages (from matplotlib) (4.55.3)\n",
            "Requirement already satisfied: kiwisolver>=1.3.1 in /usr/local/lib/python3.11/dist-packages (from matplotlib) (1.4.8)\n",
            "Requirement already satisfied: packaging>=20.0 in /usr/local/lib/python3.11/dist-packages (from matplotlib) (24.2)\n",
            "Requirement already satisfied: pillow>=8 in /usr/local/lib/python3.11/dist-packages (from matplotlib) (11.1.0)\n",
            "Requirement already satisfied: pyparsing>=2.3.1 in /usr/local/lib/python3.11/dist-packages (from matplotlib) (3.2.1)\n",
            "Requirement already satisfied: python-dateutil>=2.7 in /usr/local/lib/python3.11/dist-packages (from matplotlib) (2.8.2)\n",
            "Requirement already satisfied: six>=1.5 in /usr/local/lib/python3.11/dist-packages (from python-dateutil>=2.7->matplotlib) (1.17.0)\n",
            "Requirement already satisfied: MarkupSafe>=2.0 in /usr/local/lib/python3.11/dist-packages (from jinja2->torch) (3.0.2)\n"
          ]
        }
      ]
    },
    {
      "cell_type": "code",
      "source": [
        "\n",
        "!apt-get install -y \\\n",
        "    libgl1-mesa-dev \\\n",
        "    libgl1-mesa-glx \\\n",
        "    libglew-dev \\\n",
        "    libosmesa6-dev \\\n",
        "    software-properties-common\n",
        "\n",
        "!apt-get install -y patchelf"
      ],
      "metadata": {
        "id": "Xbxq7WihYsoz",
        "colab": {
          "base_uri": "https://localhost:8080/"
        },
        "outputId": "300f11a9-b02d-40f2-fbc5-4fb22e6897fb"
      },
      "execution_count": 4,
      "outputs": [
        {
          "output_type": "stream",
          "name": "stdout",
          "text": [
            "Reading package lists... Done\n",
            "Building dependency tree... Done\n",
            "Reading state information... Done\n",
            "software-properties-common is already the newest version (0.99.22.9).\n",
            "The following additional packages will be installed:\n",
            "  libegl-dev libgl-dev libgles-dev libgles1 libglu1-mesa libglu1-mesa-dev libglvnd-core-dev\n",
            "  libglvnd-dev libglx-dev libopengl-dev libosmesa6\n",
            "The following NEW packages will be installed:\n",
            "  libegl-dev libgl-dev libgl1-mesa-dev libgl1-mesa-glx libgles-dev libgles1 libglew-dev\n",
            "  libglu1-mesa libglu1-mesa-dev libglvnd-core-dev libglvnd-dev libglx-dev libopengl-dev libosmesa6\n",
            "  libosmesa6-dev\n",
            "0 upgraded, 15 newly installed, 0 to remove and 49 not upgraded.\n",
            "Need to get 4,013 kB of archives.\n",
            "After this operation, 19.4 MB of additional disk space will be used.\n",
            "Get:1 http://archive.ubuntu.com/ubuntu jammy/main amd64 libglx-dev amd64 1.4.0-1 [14.1 kB]\n",
            "Get:2 http://archive.ubuntu.com/ubuntu jammy/main amd64 libgl-dev amd64 1.4.0-1 [101 kB]\n",
            "Get:3 http://archive.ubuntu.com/ubuntu jammy/main amd64 libegl-dev amd64 1.4.0-1 [18.0 kB]\n",
            "Get:4 http://archive.ubuntu.com/ubuntu jammy-updates/universe amd64 libgl1-mesa-glx amd64 23.0.4-0ubuntu1~22.04.1 [5,584 B]\n",
            "Get:5 http://archive.ubuntu.com/ubuntu jammy/main amd64 libgles1 amd64 1.4.0-1 [11.5 kB]\n",
            "Get:6 http://archive.ubuntu.com/ubuntu jammy/main amd64 libgles-dev amd64 1.4.0-1 [49.4 kB]\n",
            "Get:7 http://archive.ubuntu.com/ubuntu jammy/main amd64 libglvnd-core-dev amd64 1.4.0-1 [12.7 kB]\n",
            "Get:8 http://archive.ubuntu.com/ubuntu jammy/main amd64 libopengl-dev amd64 1.4.0-1 [3,400 B]\n",
            "Get:9 http://archive.ubuntu.com/ubuntu jammy/main amd64 libglvnd-dev amd64 1.4.0-1 [3,162 B]\n",
            "Get:10 http://archive.ubuntu.com/ubuntu jammy-updates/main amd64 libgl1-mesa-dev amd64 23.2.1-1ubuntu3.1~22.04.3 [6,848 B]\n",
            "Get:11 http://archive.ubuntu.com/ubuntu jammy/main amd64 libglu1-mesa amd64 9.0.2-1 [145 kB]\n",
            "Get:12 http://archive.ubuntu.com/ubuntu jammy/main amd64 libglu1-mesa-dev amd64 9.0.2-1 [231 kB]\n",
            "Get:13 http://archive.ubuntu.com/ubuntu jammy/universe amd64 libglew-dev amd64 2.2.0-4 [287 kB]\n",
            "Get:14 http://archive.ubuntu.com/ubuntu jammy-updates/main amd64 libosmesa6 amd64 23.2.1-1ubuntu3.1~22.04.3 [3,115 kB]\n",
            "Get:15 http://archive.ubuntu.com/ubuntu jammy-updates/main amd64 libosmesa6-dev amd64 23.2.1-1ubuntu3.1~22.04.3 [8,984 B]\n",
            "Fetched 4,013 kB in 1s (4,065 kB/s)\n",
            "Selecting previously unselected package libglx-dev:amd64.\n",
            "(Reading database ... 124565 files and directories currently installed.)\n",
            "Preparing to unpack .../00-libglx-dev_1.4.0-1_amd64.deb ...\n",
            "Unpacking libglx-dev:amd64 (1.4.0-1) ...\n",
            "Selecting previously unselected package libgl-dev:amd64.\n",
            "Preparing to unpack .../01-libgl-dev_1.4.0-1_amd64.deb ...\n",
            "Unpacking libgl-dev:amd64 (1.4.0-1) ...\n",
            "Selecting previously unselected package libegl-dev:amd64.\n",
            "Preparing to unpack .../02-libegl-dev_1.4.0-1_amd64.deb ...\n",
            "Unpacking libegl-dev:amd64 (1.4.0-1) ...\n",
            "Selecting previously unselected package libgl1-mesa-glx:amd64.\n",
            "Preparing to unpack .../03-libgl1-mesa-glx_23.0.4-0ubuntu1~22.04.1_amd64.deb ...\n",
            "Unpacking libgl1-mesa-glx:amd64 (23.0.4-0ubuntu1~22.04.1) ...\n",
            "Selecting previously unselected package libgles1:amd64.\n",
            "Preparing to unpack .../04-libgles1_1.4.0-1_amd64.deb ...\n",
            "Unpacking libgles1:amd64 (1.4.0-1) ...\n",
            "Selecting previously unselected package libgles-dev:amd64.\n",
            "Preparing to unpack .../05-libgles-dev_1.4.0-1_amd64.deb ...\n",
            "Unpacking libgles-dev:amd64 (1.4.0-1) ...\n",
            "Selecting previously unselected package libglvnd-core-dev:amd64.\n",
            "Preparing to unpack .../06-libglvnd-core-dev_1.4.0-1_amd64.deb ...\n",
            "Unpacking libglvnd-core-dev:amd64 (1.4.0-1) ...\n",
            "Selecting previously unselected package libopengl-dev:amd64.\n",
            "Preparing to unpack .../07-libopengl-dev_1.4.0-1_amd64.deb ...\n",
            "Unpacking libopengl-dev:amd64 (1.4.0-1) ...\n",
            "Selecting previously unselected package libglvnd-dev:amd64.\n",
            "Preparing to unpack .../08-libglvnd-dev_1.4.0-1_amd64.deb ...\n",
            "Unpacking libglvnd-dev:amd64 (1.4.0-1) ...\n",
            "Selecting previously unselected package libgl1-mesa-dev:amd64.\n",
            "Preparing to unpack .../09-libgl1-mesa-dev_23.2.1-1ubuntu3.1~22.04.3_amd64.deb ...\n",
            "Unpacking libgl1-mesa-dev:amd64 (23.2.1-1ubuntu3.1~22.04.3) ...\n",
            "Selecting previously unselected package libglu1-mesa:amd64.\n",
            "Preparing to unpack .../10-libglu1-mesa_9.0.2-1_amd64.deb ...\n",
            "Unpacking libglu1-mesa:amd64 (9.0.2-1) ...\n",
            "Selecting previously unselected package libglu1-mesa-dev:amd64.\n",
            "Preparing to unpack .../11-libglu1-mesa-dev_9.0.2-1_amd64.deb ...\n",
            "Unpacking libglu1-mesa-dev:amd64 (9.0.2-1) ...\n",
            "Selecting previously unselected package libglew-dev:amd64.\n",
            "Preparing to unpack .../12-libglew-dev_2.2.0-4_amd64.deb ...\n",
            "Unpacking libglew-dev:amd64 (2.2.0-4) ...\n",
            "Selecting previously unselected package libosmesa6:amd64.\n",
            "Preparing to unpack .../13-libosmesa6_23.2.1-1ubuntu3.1~22.04.3_amd64.deb ...\n",
            "Unpacking libosmesa6:amd64 (23.2.1-1ubuntu3.1~22.04.3) ...\n",
            "Selecting previously unselected package libosmesa6-dev:amd64.\n",
            "Preparing to unpack .../14-libosmesa6-dev_23.2.1-1ubuntu3.1~22.04.3_amd64.deb ...\n",
            "Unpacking libosmesa6-dev:amd64 (23.2.1-1ubuntu3.1~22.04.3) ...\n",
            "Setting up libglvnd-core-dev:amd64 (1.4.0-1) ...\n",
            "Setting up libgles1:amd64 (1.4.0-1) ...\n",
            "Setting up libgl1-mesa-glx:amd64 (23.0.4-0ubuntu1~22.04.1) ...\n",
            "Setting up libglx-dev:amd64 (1.4.0-1) ...\n",
            "Setting up libglu1-mesa:amd64 (9.0.2-1) ...\n",
            "Setting up libopengl-dev:amd64 (1.4.0-1) ...\n",
            "Setting up libgl-dev:amd64 (1.4.0-1) ...\n",
            "Setting up libosmesa6:amd64 (23.2.1-1ubuntu3.1~22.04.3) ...\n",
            "Setting up libegl-dev:amd64 (1.4.0-1) ...\n",
            "Setting up libglu1-mesa-dev:amd64 (9.0.2-1) ...\n",
            "Setting up libosmesa6-dev:amd64 (23.2.1-1ubuntu3.1~22.04.3) ...\n",
            "Setting up libgles-dev:amd64 (1.4.0-1) ...\n",
            "Setting up libglvnd-dev:amd64 (1.4.0-1) ...\n",
            "Setting up libglew-dev:amd64 (2.2.0-4) ...\n",
            "Setting up libgl1-mesa-dev:amd64 (23.2.1-1ubuntu3.1~22.04.3) ...\n",
            "Processing triggers for libc-bin (2.35-0ubuntu3.4) ...\n",
            "/sbin/ldconfig.real: /usr/local/lib/libtbbbind_2_5.so.3 is not a symbolic link\n",
            "\n",
            "/sbin/ldconfig.real: /usr/local/lib/libtbbbind.so.3 is not a symbolic link\n",
            "\n",
            "/sbin/ldconfig.real: /usr/local/lib/libtbbbind_2_0.so.3 is not a symbolic link\n",
            "\n",
            "/sbin/ldconfig.real: /usr/local/lib/libtbbmalloc.so.2 is not a symbolic link\n",
            "\n",
            "/sbin/ldconfig.real: /usr/local/lib/libur_adapter_opencl.so.0 is not a symbolic link\n",
            "\n",
            "/sbin/ldconfig.real: /usr/local/lib/libtbb.so.12 is not a symbolic link\n",
            "\n",
            "/sbin/ldconfig.real: /usr/local/lib/libumf.so.0 is not a symbolic link\n",
            "\n",
            "/sbin/ldconfig.real: /usr/local/lib/libur_loader.so.0 is not a symbolic link\n",
            "\n",
            "/sbin/ldconfig.real: /usr/local/lib/libtcm.so.1 is not a symbolic link\n",
            "\n",
            "/sbin/ldconfig.real: /usr/local/lib/libtbbmalloc_proxy.so.2 is not a symbolic link\n",
            "\n",
            "/sbin/ldconfig.real: /usr/local/lib/libur_adapter_level_zero.so.0 is not a symbolic link\n",
            "\n",
            "/sbin/ldconfig.real: /usr/local/lib/libhwloc.so.15 is not a symbolic link\n",
            "\n",
            "/sbin/ldconfig.real: /usr/local/lib/libtcm_debug.so.1 is not a symbolic link\n",
            "\n",
            "Reading package lists... Done\n",
            "Building dependency tree... Done\n",
            "Reading state information... Done\n",
            "The following NEW packages will be installed:\n",
            "  patchelf\n",
            "0 upgraded, 1 newly installed, 0 to remove and 49 not upgraded.\n",
            "Need to get 72.1 kB of archives.\n",
            "After this operation, 186 kB of additional disk space will be used.\n",
            "Get:1 http://archive.ubuntu.com/ubuntu jammy/universe amd64 patchelf amd64 0.14.3-1 [72.1 kB]\n",
            "Fetched 72.1 kB in 0s (207 kB/s)\n",
            "Selecting previously unselected package patchelf.\n",
            "(Reading database ... 124705 files and directories currently installed.)\n",
            "Preparing to unpack .../patchelf_0.14.3-1_amd64.deb ...\n",
            "Unpacking patchelf (0.14.3-1) ...\n",
            "Setting up patchelf (0.14.3-1) ...\n",
            "Processing triggers for man-db (2.10.2-1) ...\n"
          ]
        }
      ]
    },
    {
      "cell_type": "code",
      "source": [
        "\n",
        "%pip install -f https://download.pytorch.org/whl/torch_stable.html \\\n",
        "                free-mujoco-py \\\n",
        "                einops \\\n",
        "                gym==0.23.1 \\\n",
        "                protobuf==3.20.1 \\\n",
        "                git+https://github.com/rail-berkeley/d4rl.git \\\n",
        "                mediapy \\\n",
        "                Pillow==9.0.0\n"
      ],
      "metadata": {
        "id": "YKgOjsJKYvPD",
        "colab": {
          "base_uri": "https://localhost:8080/"
        },
        "outputId": "2dfc1614-f421-4a7e-8e4e-cb4c42613c5a"
      },
      "execution_count": 5,
      "outputs": [
        {
          "output_type": "stream",
          "name": "stdout",
          "text": [
            "Looking in links: https://download.pytorch.org/whl/torch_stable.html\n",
            "Collecting git+https://github.com/rail-berkeley/d4rl.git\n",
            "  Cloning https://github.com/rail-berkeley/d4rl.git to /tmp/pip-req-build-_k24hu3q\n",
            "  Running command git clone --filter=blob:none --quiet https://github.com/rail-berkeley/d4rl.git /tmp/pip-req-build-_k24hu3q\n",
            "  Resolved https://github.com/rail-berkeley/d4rl.git to commit 89141a689b0353b0dac3da5cba60da4b1b16254d\n",
            "  Preparing metadata (setup.py) ... \u001b[?25l\u001b[?25hdone\n",
            "\u001b[31mERROR: Ignored the following versions that require a different python version: 2.1.4 Requires-Python >=3.7.1,<3.11; 2.1.6 Requires-Python >=3.7.1,<3.11; 2.1.6.dev0 Requires-Python >=3.7.1,<3.11\u001b[0m\u001b[31m\n",
            "\u001b[0m\u001b[31mERROR: Could not find a version that satisfies the requirement free-mujoco-py (from versions: none)\u001b[0m\u001b[31m\n",
            "\u001b[0m\u001b[31mERROR: No matching distribution found for free-mujoco-py\u001b[0m\u001b[31m\n",
            "\u001b[0m"
          ]
        }
      ]
    },
    {
      "cell_type": "markdown",
      "source": [
        "### imports"
      ],
      "metadata": {
        "id": "pNrFhswTWJMl"
      }
    },
    {
      "cell_type": "code",
      "source": [
        "!pip install stable_baselines3\n",
        "!pip install gymnasium[mujoco]\n",
        "!pip install just-d4rl"
      ],
      "metadata": {
        "colab": {
          "base_uri": "https://localhost:8080/"
        },
        "id": "OwpjEINJr3wy",
        "outputId": "274503d2-857a-45e1-880e-212fd50cfb22"
      },
      "execution_count": 6,
      "outputs": [
        {
          "output_type": "stream",
          "name": "stdout",
          "text": [
            "Collecting stable_baselines3\n",
            "  Downloading stable_baselines3-2.4.1-py3-none-any.whl.metadata (4.5 kB)\n",
            "Collecting gymnasium<1.1.0,>=0.29.1 (from stable_baselines3)\n",
            "  Downloading gymnasium-1.0.0-py3-none-any.whl.metadata (9.5 kB)\n",
            "Requirement already satisfied: numpy<2.0,>=1.20 in /usr/local/lib/python3.11/dist-packages (from stable_baselines3) (1.26.4)\n",
            "Requirement already satisfied: torch>=1.13 in /usr/local/lib/python3.11/dist-packages (from stable_baselines3) (2.5.1+cu121)\n",
            "Requirement already satisfied: cloudpickle in /usr/local/lib/python3.11/dist-packages (from stable_baselines3) (3.1.0)\n",
            "Requirement already satisfied: pandas in /usr/local/lib/python3.11/dist-packages (from stable_baselines3) (2.2.2)\n",
            "Requirement already satisfied: matplotlib in /usr/local/lib/python3.11/dist-packages (from stable_baselines3) (3.10.0)\n",
            "Requirement already satisfied: typing-extensions>=4.3.0 in /usr/local/lib/python3.11/dist-packages (from gymnasium<1.1.0,>=0.29.1->stable_baselines3) (4.12.2)\n",
            "Collecting farama-notifications>=0.0.1 (from gymnasium<1.1.0,>=0.29.1->stable_baselines3)\n",
            "  Downloading Farama_Notifications-0.0.4-py3-none-any.whl.metadata (558 bytes)\n",
            "Requirement already satisfied: filelock in /usr/local/lib/python3.11/dist-packages (from torch>=1.13->stable_baselines3) (3.16.1)\n",
            "Requirement already satisfied: networkx in /usr/local/lib/python3.11/dist-packages (from torch>=1.13->stable_baselines3) (3.4.2)\n",
            "Requirement already satisfied: jinja2 in /usr/local/lib/python3.11/dist-packages (from torch>=1.13->stable_baselines3) (3.1.5)\n",
            "Requirement already satisfied: fsspec in /usr/local/lib/python3.11/dist-packages (from torch>=1.13->stable_baselines3) (2024.10.0)\n",
            "Requirement already satisfied: nvidia-cuda-nvrtc-cu12==12.1.105 in /usr/local/lib/python3.11/dist-packages (from torch>=1.13->stable_baselines3) (12.1.105)\n",
            "Requirement already satisfied: nvidia-cuda-runtime-cu12==12.1.105 in /usr/local/lib/python3.11/dist-packages (from torch>=1.13->stable_baselines3) (12.1.105)\n",
            "Requirement already satisfied: nvidia-cuda-cupti-cu12==12.1.105 in /usr/local/lib/python3.11/dist-packages (from torch>=1.13->stable_baselines3) (12.1.105)\n",
            "Requirement already satisfied: nvidia-cudnn-cu12==9.1.0.70 in /usr/local/lib/python3.11/dist-packages (from torch>=1.13->stable_baselines3) (9.1.0.70)\n",
            "Requirement already satisfied: nvidia-cublas-cu12==12.1.3.1 in /usr/local/lib/python3.11/dist-packages (from torch>=1.13->stable_baselines3) (12.1.3.1)\n",
            "Requirement already satisfied: nvidia-cufft-cu12==11.0.2.54 in /usr/local/lib/python3.11/dist-packages (from torch>=1.13->stable_baselines3) (11.0.2.54)\n",
            "Requirement already satisfied: nvidia-curand-cu12==10.3.2.106 in /usr/local/lib/python3.11/dist-packages (from torch>=1.13->stable_baselines3) (10.3.2.106)\n",
            "Requirement already satisfied: nvidia-cusolver-cu12==11.4.5.107 in /usr/local/lib/python3.11/dist-packages (from torch>=1.13->stable_baselines3) (11.4.5.107)\n",
            "Requirement already satisfied: nvidia-cusparse-cu12==12.1.0.106 in /usr/local/lib/python3.11/dist-packages (from torch>=1.13->stable_baselines3) (12.1.0.106)\n",
            "Requirement already satisfied: nvidia-nccl-cu12==2.21.5 in /usr/local/lib/python3.11/dist-packages (from torch>=1.13->stable_baselines3) (2.21.5)\n",
            "Requirement already satisfied: nvidia-nvtx-cu12==12.1.105 in /usr/local/lib/python3.11/dist-packages (from torch>=1.13->stable_baselines3) (12.1.105)\n",
            "Requirement already satisfied: triton==3.1.0 in /usr/local/lib/python3.11/dist-packages (from torch>=1.13->stable_baselines3) (3.1.0)\n",
            "Requirement already satisfied: sympy==1.13.1 in /usr/local/lib/python3.11/dist-packages (from torch>=1.13->stable_baselines3) (1.13.1)\n",
            "Requirement already satisfied: nvidia-nvjitlink-cu12 in /usr/local/lib/python3.11/dist-packages (from nvidia-cusolver-cu12==11.4.5.107->torch>=1.13->stable_baselines3) (12.6.85)\n",
            "Requirement already satisfied: mpmath<1.4,>=1.1.0 in /usr/local/lib/python3.11/dist-packages (from sympy==1.13.1->torch>=1.13->stable_baselines3) (1.3.0)\n",
            "Requirement already satisfied: contourpy>=1.0.1 in /usr/local/lib/python3.11/dist-packages (from matplotlib->stable_baselines3) (1.3.1)\n",
            "Requirement already satisfied: cycler>=0.10 in /usr/local/lib/python3.11/dist-packages (from matplotlib->stable_baselines3) (0.12.1)\n",
            "Requirement already satisfied: fonttools>=4.22.0 in /usr/local/lib/python3.11/dist-packages (from matplotlib->stable_baselines3) (4.55.3)\n",
            "Requirement already satisfied: kiwisolver>=1.3.1 in /usr/local/lib/python3.11/dist-packages (from matplotlib->stable_baselines3) (1.4.8)\n",
            "Requirement already satisfied: packaging>=20.0 in /usr/local/lib/python3.11/dist-packages (from matplotlib->stable_baselines3) (24.2)\n",
            "Requirement already satisfied: pillow>=8 in /usr/local/lib/python3.11/dist-packages (from matplotlib->stable_baselines3) (11.1.0)\n",
            "Requirement already satisfied: pyparsing>=2.3.1 in /usr/local/lib/python3.11/dist-packages (from matplotlib->stable_baselines3) (3.2.1)\n",
            "Requirement already satisfied: python-dateutil>=2.7 in /usr/local/lib/python3.11/dist-packages (from matplotlib->stable_baselines3) (2.8.2)\n",
            "Requirement already satisfied: pytz>=2020.1 in /usr/local/lib/python3.11/dist-packages (from pandas->stable_baselines3) (2024.2)\n",
            "Requirement already satisfied: tzdata>=2022.7 in /usr/local/lib/python3.11/dist-packages (from pandas->stable_baselines3) (2024.2)\n",
            "Requirement already satisfied: six>=1.5 in /usr/local/lib/python3.11/dist-packages (from python-dateutil>=2.7->matplotlib->stable_baselines3) (1.17.0)\n",
            "Requirement already satisfied: MarkupSafe>=2.0 in /usr/local/lib/python3.11/dist-packages (from jinja2->torch>=1.13->stable_baselines3) (3.0.2)\n",
            "Downloading stable_baselines3-2.4.1-py3-none-any.whl (183 kB)\n",
            "\u001b[2K   \u001b[90m━━━━━━━━━━━━━━━━━━━━━━━━━━━━━━━━━━━━━━━━\u001b[0m \u001b[32m184.0/184.0 kB\u001b[0m \u001b[31m5.4 MB/s\u001b[0m eta \u001b[36m0:00:00\u001b[0m\n",
            "\u001b[?25hDownloading gymnasium-1.0.0-py3-none-any.whl (958 kB)\n",
            "\u001b[2K   \u001b[90m━━━━━━━━━━━━━━━━━━━━━━━━━━━━━━━━━━━━━━━━\u001b[0m \u001b[32m958.1/958.1 kB\u001b[0m \u001b[31m18.9 MB/s\u001b[0m eta \u001b[36m0:00:00\u001b[0m\n",
            "\u001b[?25hDownloading Farama_Notifications-0.0.4-py3-none-any.whl (2.5 kB)\n",
            "Installing collected packages: farama-notifications, gymnasium, stable_baselines3\n",
            "Successfully installed farama-notifications-0.0.4 gymnasium-1.0.0 stable_baselines3-2.4.1\n",
            "Requirement already satisfied: gymnasium[mujoco] in /usr/local/lib/python3.11/dist-packages (1.0.0)\n",
            "Requirement already satisfied: numpy>=1.21.0 in /usr/local/lib/python3.11/dist-packages (from gymnasium[mujoco]) (1.26.4)\n",
            "Requirement already satisfied: cloudpickle>=1.2.0 in /usr/local/lib/python3.11/dist-packages (from gymnasium[mujoco]) (3.1.0)\n",
            "Requirement already satisfied: typing-extensions>=4.3.0 in /usr/local/lib/python3.11/dist-packages (from gymnasium[mujoco]) (4.12.2)\n",
            "Requirement already satisfied: farama-notifications>=0.0.1 in /usr/local/lib/python3.11/dist-packages (from gymnasium[mujoco]) (0.0.4)\n",
            "Collecting mujoco>=2.1.5 (from gymnasium[mujoco])\n",
            "  Downloading mujoco-3.2.7-cp311-cp311-manylinux_2_17_x86_64.manylinux2014_x86_64.whl.metadata (44 kB)\n",
            "\u001b[2K     \u001b[90m━━━━━━━━━━━━━━━━━━━━━━━━━━━━━━━━━━━━━━━━\u001b[0m \u001b[32m44.4/44.4 kB\u001b[0m \u001b[31m3.0 MB/s\u001b[0m eta \u001b[36m0:00:00\u001b[0m\n",
            "\u001b[?25hRequirement already satisfied: imageio>=2.14.1 in /usr/local/lib/python3.11/dist-packages (from gymnasium[mujoco]) (2.36.1)\n",
            "Requirement already satisfied: pillow>=8.3.2 in /usr/local/lib/python3.11/dist-packages (from imageio>=2.14.1->gymnasium[mujoco]) (11.1.0)\n",
            "Requirement already satisfied: absl-py in /usr/local/lib/python3.11/dist-packages (from mujoco>=2.1.5->gymnasium[mujoco]) (1.4.0)\n",
            "Requirement already satisfied: etils[epath] in /usr/local/lib/python3.11/dist-packages (from mujoco>=2.1.5->gymnasium[mujoco]) (1.11.0)\n",
            "Collecting glfw (from mujoco>=2.1.5->gymnasium[mujoco])\n",
            "  Downloading glfw-2.8.0-py2.py27.py3.py30.py31.py32.py33.py34.py35.py36.py37.py38.p39.p310.p311.p312.p313-none-manylinux_2_28_x86_64.whl.metadata (5.4 kB)\n",
            "Requirement already satisfied: pyopengl in /usr/local/lib/python3.11/dist-packages (from mujoco>=2.1.5->gymnasium[mujoco]) (3.1.7)\n",
            "Requirement already satisfied: fsspec in /usr/local/lib/python3.11/dist-packages (from etils[epath]->mujoco>=2.1.5->gymnasium[mujoco]) (2024.10.0)\n",
            "Requirement already satisfied: importlib_resources in /usr/local/lib/python3.11/dist-packages (from etils[epath]->mujoco>=2.1.5->gymnasium[mujoco]) (6.5.2)\n",
            "Requirement already satisfied: zipp in /usr/local/lib/python3.11/dist-packages (from etils[epath]->mujoco>=2.1.5->gymnasium[mujoco]) (3.21.0)\n",
            "Downloading mujoco-3.2.7-cp311-cp311-manylinux_2_17_x86_64.manylinux2014_x86_64.whl (6.4 MB)\n",
            "\u001b[2K   \u001b[90m━━━━━━━━━━━━━━━━━━━━━━━━━━━━━━━━━━━━━━━━\u001b[0m \u001b[32m6.4/6.4 MB\u001b[0m \u001b[31m49.0 MB/s\u001b[0m eta \u001b[36m0:00:00\u001b[0m\n",
            "\u001b[?25hDownloading glfw-2.8.0-py2.py27.py3.py30.py31.py32.py33.py34.py35.py36.py37.py38.p39.p310.p311.p312.p313-none-manylinux_2_28_x86_64.whl (243 kB)\n",
            "\u001b[2K   \u001b[90m━━━━━━━━━━━━━━━━━━━━━━━━━━━━━━━━━━━━━━━━\u001b[0m \u001b[32m243.4/243.4 kB\u001b[0m \u001b[31m20.5 MB/s\u001b[0m eta \u001b[36m0:00:00\u001b[0m\n",
            "\u001b[?25hInstalling collected packages: glfw, mujoco\n",
            "Successfully installed glfw-2.8.0 mujoco-3.2.7\n",
            "Collecting just-d4rl\n",
            "  Downloading just_d4rl-0.2407.5-py3-none-any.whl.metadata (2.0 kB)\n",
            "Requirement already satisfied: h5py>=3.11.0 in /usr/local/lib/python3.11/dist-packages (from just-d4rl) (3.12.1)\n",
            "Requirement already satisfied: tqdm>=4.66.4 in /usr/local/lib/python3.11/dist-packages (from just-d4rl) (4.67.1)\n",
            "Requirement already satisfied: torch>=2 in /usr/local/lib/python3.11/dist-packages (from just-d4rl) (2.5.1+cu121)\n",
            "Requirement already satisfied: numpy>=1.19.3 in /usr/local/lib/python3.11/dist-packages (from h5py>=3.11.0->just-d4rl) (1.26.4)\n",
            "Requirement already satisfied: filelock in /usr/local/lib/python3.11/dist-packages (from torch>=2->just-d4rl) (3.16.1)\n",
            "Requirement already satisfied: typing-extensions>=4.8.0 in /usr/local/lib/python3.11/dist-packages (from torch>=2->just-d4rl) (4.12.2)\n",
            "Requirement already satisfied: networkx in /usr/local/lib/python3.11/dist-packages (from torch>=2->just-d4rl) (3.4.2)\n",
            "Requirement already satisfied: jinja2 in /usr/local/lib/python3.11/dist-packages (from torch>=2->just-d4rl) (3.1.5)\n",
            "Requirement already satisfied: fsspec in /usr/local/lib/python3.11/dist-packages (from torch>=2->just-d4rl) (2024.10.0)\n",
            "Requirement already satisfied: nvidia-cuda-nvrtc-cu12==12.1.105 in /usr/local/lib/python3.11/dist-packages (from torch>=2->just-d4rl) (12.1.105)\n",
            "Requirement already satisfied: nvidia-cuda-runtime-cu12==12.1.105 in /usr/local/lib/python3.11/dist-packages (from torch>=2->just-d4rl) (12.1.105)\n",
            "Requirement already satisfied: nvidia-cuda-cupti-cu12==12.1.105 in /usr/local/lib/python3.11/dist-packages (from torch>=2->just-d4rl) (12.1.105)\n",
            "Requirement already satisfied: nvidia-cudnn-cu12==9.1.0.70 in /usr/local/lib/python3.11/dist-packages (from torch>=2->just-d4rl) (9.1.0.70)\n",
            "Requirement already satisfied: nvidia-cublas-cu12==12.1.3.1 in /usr/local/lib/python3.11/dist-packages (from torch>=2->just-d4rl) (12.1.3.1)\n",
            "Requirement already satisfied: nvidia-cufft-cu12==11.0.2.54 in /usr/local/lib/python3.11/dist-packages (from torch>=2->just-d4rl) (11.0.2.54)\n",
            "Requirement already satisfied: nvidia-curand-cu12==10.3.2.106 in /usr/local/lib/python3.11/dist-packages (from torch>=2->just-d4rl) (10.3.2.106)\n",
            "Requirement already satisfied: nvidia-cusolver-cu12==11.4.5.107 in /usr/local/lib/python3.11/dist-packages (from torch>=2->just-d4rl) (11.4.5.107)\n",
            "Requirement already satisfied: nvidia-cusparse-cu12==12.1.0.106 in /usr/local/lib/python3.11/dist-packages (from torch>=2->just-d4rl) (12.1.0.106)\n",
            "Requirement already satisfied: nvidia-nccl-cu12==2.21.5 in /usr/local/lib/python3.11/dist-packages (from torch>=2->just-d4rl) (2.21.5)\n",
            "Requirement already satisfied: nvidia-nvtx-cu12==12.1.105 in /usr/local/lib/python3.11/dist-packages (from torch>=2->just-d4rl) (12.1.105)\n",
            "Requirement already satisfied: triton==3.1.0 in /usr/local/lib/python3.11/dist-packages (from torch>=2->just-d4rl) (3.1.0)\n",
            "Requirement already satisfied: sympy==1.13.1 in /usr/local/lib/python3.11/dist-packages (from torch>=2->just-d4rl) (1.13.1)\n",
            "Requirement already satisfied: nvidia-nvjitlink-cu12 in /usr/local/lib/python3.11/dist-packages (from nvidia-cusolver-cu12==11.4.5.107->torch>=2->just-d4rl) (12.6.85)\n",
            "Requirement already satisfied: mpmath<1.4,>=1.1.0 in /usr/local/lib/python3.11/dist-packages (from sympy==1.13.1->torch>=2->just-d4rl) (1.3.0)\n",
            "Requirement already satisfied: MarkupSafe>=2.0 in /usr/local/lib/python3.11/dist-packages (from jinja2->torch>=2->just-d4rl) (3.0.2)\n",
            "Downloading just_d4rl-0.2407.5-py3-none-any.whl (8.2 kB)\n",
            "Installing collected packages: just-d4rl\n",
            "Successfully installed just-d4rl-0.2407.5\n"
          ]
        }
      ]
    },
    {
      "cell_type": "code",
      "execution_count": 7,
      "metadata": {
        "id": "iHf_E1dY7eqM"
      },
      "outputs": [],
      "source": [
        "from just_d4rl import D4RLDataset, d4rl_offline_dataset, D4RLScoreNormalizer\n",
        "import gymnasium as gym\n",
        "import matplotlib.pyplot as plt\n",
        "\n",
        "import torch\n",
        "import numpy as np"
      ]
    },
    {
      "cell_type": "code",
      "execution_count": 8,
      "metadata": {
        "id": "jOctVFuLRUhJ"
      },
      "outputs": [],
      "source": [
        "import torch\n",
        "import torch.nn as nn\n",
        "from stable_baselines3.common import policies\n",
        "from stable_baselines3.common.torch_layers import (\n",
        "    BaseFeaturesExtractor,\n",
        "    FlattenExtractor,\n",
        "    MlpExtractor\n",
        ")\n",
        "\n",
        "class UnconditionalPolicy(policies.ActorCriticPolicy):\n",
        "    \"\"\"\n",
        "    Policy that follows stable-baselines3's architecture for behavior cloning.\n",
        "    This matches their implementation where features go through:\n",
        "    1. Feature extraction (flattening for Box spaces)\n",
        "    2. MLP extraction (separate networks for policy and value)\n",
        "    3. Final action distribution\n",
        "    \"\"\"\n",
        "    def __init__(\n",
        "        self,\n",
        "        observation_space,\n",
        "        action_space,\n",
        "        hidden_size=1024,\n",
        "        depth=2,\n",
        "        learning_rate=1e-3,\n",
        "        dropout_p=0.1\n",
        "    ):\n",
        "\n",
        "        net_arch = dict(\n",
        "            pi=[hidden_size] * depth,\n",
        "            vf=[64]\n",
        "        )\n",
        "\n",
        "\n",
        "        super().__init__(\n",
        "            observation_space=observation_space,\n",
        "            action_space=action_space,\n",
        "            lr_schedule=lambda _: learning_rate,\n",
        "            net_arch=net_arch,\n",
        "            activation_fn=nn.ReLU,\n",
        "            features_extractor_class=FlattenExtractor,\n",
        "            optimizer_class=torch.optim.Adam\n",
        "        )\n",
        "\n",
        "    def _build(self, lr_schedule):\n",
        "        \"\"\"\n",
        "        Build the network following stable-baselines3's architecture.\n",
        "        \"\"\"\n",
        "\n",
        "        self.features_extractor = self.features_extractor_class(self.observation_space)\n",
        "        self.features_dim = self.features_extractor.features_dim\n",
        "\n",
        "\n",
        "        self.mlp_extractor = MlpExtractor(\n",
        "            self.features_dim,\n",
        "            net_arch=self.net_arch,\n",
        "            activation_fn=self.activation_fn,\n",
        "        )\n",
        "\n",
        "\n",
        "        self.value_net = nn.Linear(self.mlp_extractor.latent_dim_vf, 1)\n",
        "\n",
        "        latent_dim_pi = self.mlp_extractor.latent_dim_pi\n",
        "        self.action_net, self.log_std = self.action_dist.proba_distribution_net(\n",
        "            latent_dim=latent_dim_pi,\n",
        "            log_std_init=self.log_std_init\n",
        "        )\n",
        "\n",
        "def mle_loss(policy, obs, actions):\n",
        "\n",
        "    _, log_prob, _ = policy.evaluate_actions(obs, actions)\n",
        "    return -log_prob.mean()"
      ]
    },
    {
      "cell_type": "markdown",
      "metadata": {
        "id": "XZCDup217eqI"
      },
      "source": [
        "### Online evluation utils"
      ]
    },
    {
      "cell_type": "code",
      "source": [
        "def evaluate_on_env(model, device, env, desired_return_target,\n",
        "                    num_eval_ep=10, max_test_ep_len=1000,\n",
        "                    state_mean=None, state_std=None, render=False,\n",
        "                    state_normalization=True):\n",
        "\n",
        "    eval_batch_size = 1\n",
        "    results = {}\n",
        "    total_reward = 0\n",
        "    total_timesteps = 0\n",
        "\n",
        "    state_dim = env.observation_space.shape[0]\n",
        "    act_dim = env.action_space.shape[0]\n",
        "\n",
        "    if state_mean is None:\n",
        "        state_mean = torch.zeros((state_dim,)).to(device)\n",
        "    else:\n",
        "        state_mean = torch.from_numpy(state_mean).to(device)\n",
        "\n",
        "    if state_std is None:\n",
        "        state_std = torch.ones((state_dim,)).to(device)\n",
        "    else:\n",
        "        state_std = torch.from_numpy(state_std).to(device)\n",
        "\n",
        "    model.eval()\n",
        "    model.to(device)\n",
        "\n",
        "    with torch.no_grad():\n",
        "        return_per_ep_log = []\n",
        "        all_rewards = []\n",
        "\n",
        "        for ep in range(num_eval_ep):\n",
        "            desired_return = desired_return_target\n",
        "            running_reward = 0\n",
        "            reset_result = env.reset()\n",
        "            if isinstance(reset_result, tuple):\n",
        "                running_state, _ = reset_result\n",
        "            else:\n",
        "                running_state = reset_result\n",
        "\n",
        "            running_reward = 0\n",
        "            reward_per_ep = 0\n",
        "            running_reward_log = []\n",
        "\n",
        "            for t in range(max_test_ep_len):\n",
        "                total_timesteps += 1\n",
        "                desired_return -= running_reward*0.001\n",
        "\n",
        "\n",
        "                state = torch.from_numpy(running_state).to(device, dtype=torch.float32)\n",
        "                if state_normalization:\n",
        "                    state = (state - state_mean) / state_std\n",
        "\n",
        "                if len(state.shape) == 1:\n",
        "                    state = state.unsqueeze(0)\n",
        "                s_rtg = torch.cat((state, torch.tensor([desired_return]).to(device).reshape(-1,1)), dim=1)\n",
        "                actions = model._predict(s_rtg, deterministic=True)\n",
        "\n",
        "\n",
        "                step_result = env.step(actions.cpu().numpy().flatten())\n",
        "                if len(step_result) == 5:  # Gymnasium style\n",
        "                    running_state, running_reward, terminated, truncated, _ = step_result\n",
        "                    done = terminated or truncated\n",
        "                else:  # Old Gym style\n",
        "                    running_state, running_reward, done, _ = step_result\n",
        "\n",
        "                running_reward_log.append(running_reward)\n",
        "\n",
        "                total_reward += running_reward\n",
        "                reward_per_ep += running_reward\n",
        "\n",
        "                if render:\n",
        "                    env.render()\n",
        "                if done:\n",
        "                    print('sum of reward per episode: ', reward_per_ep)\n",
        "                    return_per_ep_log.append(reward_per_ep)\n",
        "                    break\n",
        "\n",
        "    t = np.arange(len(running_reward_log))\n",
        "    plt.plot(t, np.array(running_reward_log), 'b')\n",
        "    plt.show()\n",
        "\n",
        "    results['eval/avg_reward'] = total_reward / num_eval_ep\n",
        "    results['eval/avg_ep_len'] = total_timesteps / num_eval_ep\n",
        "    results['eval/std_returns'] = np.std(return_per_ep_log)\n",
        "    results['eval/all_rewards'] = all_rewards\n",
        "\n",
        "    return results"
      ],
      "metadata": {
        "id": "JzFXx-Hj_fXJ",
        "colab": {
          "base_uri": "https://localhost:8080/"
        },
        "outputId": "0dad21e1-684c-4a1f-96d8-e64af4ba902b"
      },
      "execution_count": 9,
      "outputs": [
        {
          "output_type": "stream",
          "name": "stderr",
          "text": [
            "/usr/local/lib/python3.11/dist-packages/ipykernel/ipkernel.py:283: DeprecationWarning: `should_run_async` will not call `transform_cell` automatically in the future. Please pass the result to `transformed_cell` argument and any exception that happen during thetransform in `preprocessing_exc_tuple` in IPython 7.17 and above.\n",
            "  and should_run_async(code)\n"
          ]
        }
      ]
    },
    {
      "cell_type": "code",
      "execution_count": 10,
      "metadata": {
        "id": "ZHzR2NE77eqN",
        "colab": {
          "base_uri": "https://localhost:8080/"
        },
        "outputId": "5468dced-1ee6-492b-e0bf-84865dc3d991"
      },
      "outputs": [
        {
          "output_type": "stream",
          "name": "stderr",
          "text": [
            "/usr/local/lib/python3.11/dist-packages/gymnasium/envs/registration.py:517: DeprecationWarning: \u001b[33mWARN: The environment HalfCheetah-v4 is out of date. You should consider upgrading to version `v5`.\u001b[0m\n",
            "  logger.deprecation(\n"
          ]
        },
        {
          "output_type": "stream",
          "name": "stdout",
          "text": [
            "Downloading dataset: http://rail.eecs.berkeley.edu/datasets/offline_rl/gym_mujoco_v2/halfcheetah_medium_expert-v2.hdf5 to /root/.d4rl/datasets/halfcheetah_medium_expert-v2.hdf5\n"
          ]
        },
        {
          "output_type": "stream",
          "name": "stderr",
          "text": [
            "load datafile: 100%|██████████| 9/9 [00:04<00:00,  1.84it/s]\n"
          ]
        },
        {
          "output_type": "stream",
          "name": "stdout",
          "text": [
            "Dataset loaded and saved at: /root/.d4rl/datasets/halfcheetah_medium_expert-v2.hdf5\n",
            "Number of samples collected: 1997002\n",
            "Trajectory returns: mean = 7703.63037109375, std = 2966.797607421875, max = 11239.41796875, min = -309.6566162109375\n"
          ]
        }
      ],
      "source": [
        "import gymnasium as gym\n",
        "\n",
        "import numpy as np\n",
        "import collections\n",
        "import pickle\n",
        "\n",
        "eval_env = gym.make('HalfCheetah-v4')\n",
        "dataset_name = \"halfcheetah-medium-expert-v2\"\n",
        "dataset = d4rl_offline_dataset(dataset_name)\n",
        "get_normalized_score = D4RLScoreNormalizer(dataset_name)\n",
        "return_target = 12000*0.001 #use 3600 for hopper and 5000 for walker2d\n",
        "\n",
        "\n",
        "\n",
        "N = dataset[\"rewards\"].shape[0]\n",
        "data_ = collections.defaultdict(list)\n",
        "\n",
        "use_timeouts = False\n",
        "if \"timeouts\" in dataset:\n",
        "    use_timeouts = True\n",
        "\n",
        "episode_step = 0\n",
        "paths = []\n",
        "for i in range(N):\n",
        "    done_bool = bool(dataset[\"terminals\"][i])\n",
        "    if use_timeouts:\n",
        "        final_timestep = dataset[\"timeouts\"][i]\n",
        "    else:\n",
        "        final_timestep = episode_step == 1000 - 1\n",
        "    for k in [\n",
        "        \"observations\",\n",
        "        \"next_observations\",\n",
        "        \"actions\",\n",
        "        \"rewards\",\n",
        "        \"terminals\",\n",
        "    ]:\n",
        "        data_[k].append(dataset[k][i])\n",
        "    if done_bool or final_timestep:\n",
        "        episode_step = 0\n",
        "        episode_data = {}\n",
        "        for k in data_:\n",
        "            episode_data[k] = np.array(data_[k])\n",
        "        paths.append(episode_data)\n",
        "        data_ = collections.defaultdict(list)\n",
        "    episode_step += 1\n",
        "\n",
        "returns = np.array([np.sum(p[\"rewards\"]) for p in paths])\n",
        "num_samples = np.sum([p[\"rewards\"].shape[0] for p in paths])\n",
        "print(f\"Number of samples collected: {num_samples}\")\n",
        "print(\n",
        "    f\"Trajectory returns: mean = {np.mean(returns)}, std = {np.std(returns)}, max = {np.max(returns)}, min = {np.min(returns)}\"\n",
        ")\n",
        "\n",
        "with open(f\"{dataset_name}.pkl\", \"wb\") as f:\n",
        "    pickle.dump(paths, f)\n",
        "\n"
      ]
    },
    {
      "cell_type": "code",
      "source": [
        "def discount_cumsum(x, gamma=1.):\n",
        "    ret = np.zeros_like(x)\n",
        "    ret[-1] = x[-1]\n",
        "    for t in reversed(range(x.shape[0] - 1)):\n",
        "        ret[t] = x[t] + gamma * ret[t + 1]\n",
        "    return ret"
      ],
      "metadata": {
        "id": "R8B-4eWY8yvL"
      },
      "execution_count": 11,
      "outputs": []
    },
    {
      "cell_type": "code",
      "source": [
        "rtgs = []\n",
        "states = []\n",
        "actions = []\n",
        "for p in paths:\n",
        "  states.append(p['observations'])\n",
        "  actions.append(p['actions'])\n",
        "  rtg = discount_cumsum(p['rewards'], gamma=1.)\n",
        "  rtgs.append(rtg)"
      ],
      "metadata": {
        "id": "oIMkQpQxpPzG"
      },
      "execution_count": 12,
      "outputs": []
    },
    {
      "cell_type": "code",
      "source": [
        "returns = np.concatenate(rtgs)\n",
        "states = np.concatenate(states)\n",
        "actions = np.concatenate(actions)"
      ],
      "metadata": {
        "id": "0WtxJPObpUSs"
      },
      "execution_count": 13,
      "outputs": []
    },
    {
      "cell_type": "code",
      "source": [
        "returns.shape"
      ],
      "metadata": {
        "id": "63j6ISwkpaGY",
        "colab": {
          "base_uri": "https://localhost:8080/"
        },
        "outputId": "4901b9b0-bd30-49e4-82fc-fdbf597f29c7"
      },
      "execution_count": 14,
      "outputs": [
        {
          "output_type": "execute_result",
          "data": {
            "text/plain": [
              "(1997002,)"
            ]
          },
          "metadata": {},
          "execution_count": 14
        }
      ]
    },
    {
      "cell_type": "code",
      "execution_count": 15,
      "metadata": {
        "id": "faokyoC67eqO"
      },
      "outputs": [],
      "source": [
        "states_mean = states.mean(axis=0)\n",
        "states_std = states.std(axis=0) + 1e-6"
      ]
    },
    {
      "cell_type": "code",
      "execution_count": 16,
      "metadata": {
        "id": "Lf46rAdF7eqO"
      },
      "outputs": [],
      "source": [
        "normalized_states = (states-states_mean)/states_std"
      ]
    },
    {
      "cell_type": "code",
      "source": [
        "scaled_returns = returns / 1000"
      ],
      "metadata": {
        "id": "brBdIlbyp29n"
      },
      "execution_count": 17,
      "outputs": []
    },
    {
      "cell_type": "code",
      "source": [
        "print(states.shape)\n",
        "print(scaled_returns.shape)"
      ],
      "metadata": {
        "id": "AYbUVLMz-l9m",
        "colab": {
          "base_uri": "https://localhost:8080/"
        },
        "outputId": "9a4b7561-8545-4b7a-e95f-fb4a0cd42cf8"
      },
      "execution_count": 18,
      "outputs": [
        {
          "output_type": "stream",
          "name": "stdout",
          "text": [
            "(1997002, 17)\n",
            "(1997002,)\n"
          ]
        }
      ]
    },
    {
      "cell_type": "code",
      "execution_count": 19,
      "metadata": {
        "id": "vDboaoUL7eqO"
      },
      "outputs": [],
      "source": [
        "hidden_dim = 128\n",
        "act_dim = actions.shape[1]\n",
        "obs_dim = states.shape[1]\n",
        "lr = 1e-4\n",
        "weight_decay = 1e-4\n",
        "epochs = 2000\n",
        "device = 'cuda'"
      ]
    },
    {
      "cell_type": "code",
      "source": [
        "obs_space=gym.spaces.Box(np.concatenate([eval_env.observation_space.low,np.array([-np.inf])]),\n",
        "               np.concatenate([eval_env.observation_space.high,np.array([+np.inf])] ), shape=(eval_env.observation_space.shape[0]+1,))\n"
      ],
      "metadata": {
        "id": "VdxvH0rJ_yIN",
        "colab": {
          "base_uri": "https://localhost:8080/"
        },
        "outputId": "bae4bb67-9399-4d18-f6cc-d389b1ca1aa8"
      },
      "execution_count": 20,
      "outputs": [
        {
          "output_type": "stream",
          "name": "stderr",
          "text": [
            "/usr/local/lib/python3.11/dist-packages/gymnasium/spaces/box.py:235: UserWarning: \u001b[33mWARN: Box low's precision lowered by casting to float32, current low.dtype=float64\u001b[0m\n",
            "  gym.logger.warn(\n",
            "/usr/local/lib/python3.11/dist-packages/gymnasium/spaces/box.py:305: UserWarning: \u001b[33mWARN: Box high's precision lowered by casting to float32, current high.dtype=float64\u001b[0m\n",
            "  gym.logger.warn(\n"
          ]
        }
      ]
    },
    {
      "cell_type": "code",
      "execution_count": 21,
      "metadata": {
        "id": "wn3yCGkL7eqO"
      },
      "outputs": [],
      "source": [
        "actor = UnconditionalPolicy(\n",
        "    observation_space=obs_space,\n",
        "    action_space=eval_env.action_space,\n",
        "    hidden_size=1024,\n",
        "    depth=2\n",
        ")"
      ]
    },
    {
      "cell_type": "code",
      "execution_count": 22,
      "metadata": {
        "id": "WhKSJBgl7eqO",
        "colab": {
          "base_uri": "https://localhost:8080/"
        },
        "outputId": "a648bb7a-2258-4777-cfb4-77e57b37afb0"
      },
      "outputs": [
        {
          "output_type": "execute_result",
          "data": {
            "text/plain": [
              "UnconditionalPolicy(\n",
              "  (features_extractor): FlattenExtractor(\n",
              "    (flatten): Flatten(start_dim=1, end_dim=-1)\n",
              "  )\n",
              "  (pi_features_extractor): FlattenExtractor(\n",
              "    (flatten): Flatten(start_dim=1, end_dim=-1)\n",
              "  )\n",
              "  (vf_features_extractor): FlattenExtractor(\n",
              "    (flatten): Flatten(start_dim=1, end_dim=-1)\n",
              "  )\n",
              "  (mlp_extractor): MlpExtractor(\n",
              "    (policy_net): Sequential(\n",
              "      (0): Linear(in_features=18, out_features=1024, bias=True)\n",
              "      (1): ReLU()\n",
              "      (2): Linear(in_features=1024, out_features=1024, bias=True)\n",
              "      (3): ReLU()\n",
              "    )\n",
              "    (value_net): Sequential(\n",
              "      (0): Linear(in_features=18, out_features=64, bias=True)\n",
              "      (1): ReLU()\n",
              "    )\n",
              "  )\n",
              "  (value_net): Linear(in_features=64, out_features=1, bias=True)\n",
              "  (action_net): Linear(in_features=1024, out_features=6, bias=True)\n",
              ")"
            ]
          },
          "metadata": {},
          "execution_count": 22
        }
      ],
      "source": [
        "actor"
      ]
    },
    {
      "cell_type": "code",
      "source": [
        "optimizer = torch.optim.Adam(actor.parameters(),\n",
        "                                    lr=lr,\n",
        "                                    weight_decay=weight_decay,\n",
        "                                    )"
      ],
      "metadata": {
        "id": "Nf6K4cYvPRSq"
      },
      "execution_count": 23,
      "outputs": []
    },
    {
      "cell_type": "code",
      "execution_count": 24,
      "metadata": {
        "id": "-W7335Ov7eqO",
        "colab": {
          "base_uri": "https://localhost:8080/"
        },
        "outputId": "2c68f0e6-dd23-46ea-db9b-171ec9c04b92"
      },
      "outputs": [
        {
          "output_type": "stream",
          "name": "stderr",
          "text": [
            "/usr/local/lib/python3.11/dist-packages/ipykernel/ipkernel.py:283: DeprecationWarning: `should_run_async` will not call `transform_cell` automatically in the future. Please pass the result to `transformed_cell` argument and any exception that happen during thetransform in `preprocessing_exc_tuple` in IPython 7.17 and above.\n",
            "  and should_run_async(code)\n"
          ]
        }
      ],
      "source": [
        "from torch.utils.data import DataLoader, TensorDataset"
      ]
    },
    {
      "cell_type": "code",
      "execution_count": 25,
      "metadata": {
        "id": "SnLBimAa7eqP"
      },
      "outputs": [],
      "source": [
        "states_tensor = torch.tensor(normalized_states, dtype=torch.float32).to(device)\n",
        "returns_tensor = torch.tensor(scaled_returns, dtype=torch.float32).to(device)\n",
        "actions_tensor = torch.tensor(actions, dtype=torch.float32).to(device).clamp(*[float(eval_env.action_space.low.min()) + 1e-6, float(eval_env.action_space.high.max()) - 1e-6])"
      ]
    },
    {
      "cell_type": "code",
      "execution_count": 26,
      "metadata": {
        "id": "qfR399J87eqP"
      },
      "outputs": [],
      "source": [
        "train_loader = DataLoader(TensorDataset(torch.cat((states_tensor, returns_tensor.reshape(-1,1)), dim=1), actions_tensor), batch_size=512, shuffle=True)"
      ]
    },
    {
      "cell_type": "code",
      "execution_count": 27,
      "metadata": {
        "id": "1y_RWtZQ7eqP",
        "colab": {
          "base_uri": "https://localhost:8080/",
          "height": 1000
        },
        "outputId": "4f939330-d4c4-4b96-e7ee-139aabd4c42b"
      },
      "outputs": [
        {
          "output_type": "stream",
          "name": "stdout",
          "text": [
            "epoch loss:  17948.519526958466\n",
            "sum of reward per episode:  316.67142117356485\n",
            "sum of reward per episode:  5977.59052378586\n",
            "sum of reward per episode:  5240.051511107597\n",
            "sum of reward per episode:  1691.959935036019\n",
            "sum of reward per episode:  2489.975127420496\n"
          ]
        },
        {
          "output_type": "display_data",
          "data": {
            "text/plain": [
              "<Figure size 640x480 with 1 Axes>"
            ],
            "image/png": "[encoded data removed]"
          },
          "metadata": {}
        },
        {
          "output_type": "stream",
          "name": "stdout",
          "text": [
            "Average score:  27.574541371209705\n",
            "Std score:  19.514255780328757\n",
            "epoch loss:  9831.710082173347\n",
            "sum of reward per episode:  7487.6250652592935\n",
            "sum of reward per episode:  1063.3418668248055\n",
            "sum of reward per episode:  899.8817578715868\n",
            "sum of reward per episode:  6885.44488477413\n",
            "sum of reward per episode:  9001.848738361994\n"
          ]
        },
        {
          "output_type": "display_data",
          "data": {
            "text/plain": [
              "<Figure size 640x480 with 1 Axes>"
            ],
            "image/png": "[encoded data removed]"
          },
          "metadata": {}
        },
        {
          "output_type": "stream",
          "name": "stdout",
          "text": [
            "Average score:  43.07475096302284\n",
            "Std score:  29.700166954846345\n",
            "epoch loss:  3103.503413151484\n",
            "sum of reward per episode:  10218.660061401839\n",
            "sum of reward per episode:  51.035449237640165\n",
            "sum of reward per episode:  9730.4416145223\n",
            "sum of reward per episode:  10214.523853727665\n",
            "sum of reward per episode:  9075.391596641763\n"
          ]
        },
        {
          "output_type": "display_data",
          "data": {
            "text/plain": [
              "<Figure size 640x480 with 1 Axes>"
            ],
            "image/png": "[encoded data removed]"
          },
          "metadata": {}
        },
        {
          "output_type": "stream",
          "name": "stdout",
          "text": [
            "Average score:  65.55031948322984\n",
            "Std score:  33.878365022231684\n",
            "epoch loss:  -2010.0751864085905\n",
            "sum of reward per episode:  11019.791927576287\n",
            "sum of reward per episode:  10618.981051716259\n",
            "sum of reward per episode:  556.5681083133778\n",
            "sum of reward per episode:  11142.606018784589\n",
            "sum of reward per episode:  3710.737943006051\n"
          ]
        },
        {
          "output_type": "display_data",
          "data": {
            "text/plain": [
              "<Figure size 640x480 with 1 Axes>"
            ],
            "image/png": "[encoded data removed]"
          },
          "metadata": {}
        },
        {
          "output_type": "stream",
          "name": "stdout",
          "text": [
            "Average score:  61.93963044746239\n",
            "Std score:  37.90068330174661\n",
            "epoch loss:  -5164.797532141209\n",
            "sum of reward per episode:  10164.079532438442\n",
            "sum of reward per episode:  10490.932600067488\n",
            "sum of reward per episode:  10481.509633280224\n",
            "sum of reward per episode:  10550.298874599312\n",
            "sum of reward per episode:  10522.142231130174\n"
          ]
        },
        {
          "output_type": "display_data",
          "data": {
            "text/plain": [
              "<Figure size 640x480 with 1 Axes>"
            ],
            "image/png": "[encoded data removed]"
          },
          "metadata": {}
        },
        {
          "output_type": "stream",
          "name": "stdout",
          "text": [
            "Average score:  86.36179605540283\n",
            "Std score:  3.3921169544989893\n"
          ]
        },
        {
          "output_type": "error",
          "ename": "KeyboardInterrupt",
          "evalue": "",
          "traceback": [
            "\u001b[0;31m---------------------------------------------------------------------------\u001b[0m",
            "\u001b[0;31mKeyboardInterrupt\u001b[0m                         Traceback (most recent call last)",
            "\u001b[0;32m<ipython-input-27-5937d13d07f2>\u001b[0m in \u001b[0;36m<cell line: 0>\u001b[0;34m()\u001b[0m\n\u001b[1;32m      6\u001b[0m     \u001b[0mepoch_loss\u001b[0m \u001b[0;34m=\u001b[0m \u001b[0;36m0.0\u001b[0m\u001b[0;34m\u001b[0m\u001b[0;34m\u001b[0m\u001b[0m\n\u001b[1;32m      7\u001b[0m     \u001b[0mactor\u001b[0m\u001b[0;34m.\u001b[0m\u001b[0mtrain\u001b[0m\u001b[0;34m(\u001b[0m\u001b[0;34m)\u001b[0m\u001b[0;34m\u001b[0m\u001b[0;34m\u001b[0m\u001b[0m\n\u001b[0;32m----> 8\u001b[0;31m     \u001b[0;32mfor\u001b[0m \u001b[0mx_batch\u001b[0m\u001b[0;34m,\u001b[0m \u001b[0my_batch\u001b[0m \u001b[0;32min\u001b[0m \u001b[0mtrain_loader\u001b[0m\u001b[0;34m:\u001b[0m\u001b[0;34m\u001b[0m\u001b[0;34m\u001b[0m\u001b[0m\n\u001b[0m\u001b[1;32m      9\u001b[0m         \u001b[0mc\u001b[0m \u001b[0;34m+=\u001b[0m \u001b[0;36m1\u001b[0m\u001b[0;34m\u001b[0m\u001b[0;34m\u001b[0m\u001b[0m\n\u001b[1;32m     10\u001b[0m         \u001b[0mx_batch\u001b[0m\u001b[0;34m,\u001b[0m \u001b[0my_batch\u001b[0m \u001b[0;34m=\u001b[0m \u001b[0mx_batch\u001b[0m\u001b[0;34m.\u001b[0m\u001b[0mto\u001b[0m\u001b[0;34m(\u001b[0m\u001b[0mdevice\u001b[0m\u001b[0;34m)\u001b[0m\u001b[0;34m,\u001b[0m \u001b[0my_batch\u001b[0m\u001b[0;34m.\u001b[0m\u001b[0mto\u001b[0m\u001b[0;34m(\u001b[0m\u001b[0mdevice\u001b[0m\u001b[0;34m)\u001b[0m\u001b[0;34m\u001b[0m\u001b[0;34m\u001b[0m\u001b[0m\n",
            "\u001b[0;32m/usr/local/lib/python3.11/dist-packages/torch/utils/data/dataloader.py\u001b[0m in \u001b[0;36m__next__\u001b[0;34m(self)\u001b[0m\n\u001b[1;32m    695\u001b[0m \u001b[0;34m\u001b[0m\u001b[0m\n\u001b[1;32m    696\u001b[0m     \u001b[0;32mdef\u001b[0m \u001b[0m__next__\u001b[0m\u001b[0;34m(\u001b[0m\u001b[0mself\u001b[0m\u001b[0;34m)\u001b[0m \u001b[0;34m->\u001b[0m \u001b[0mAny\u001b[0m\u001b[0;34m:\u001b[0m\u001b[0;34m\u001b[0m\u001b[0;34m\u001b[0m\u001b[0m\n\u001b[0;32m--> 697\u001b[0;31m         \u001b[0;32mwith\u001b[0m \u001b[0mtorch\u001b[0m\u001b[0;34m.\u001b[0m\u001b[0mautograd\u001b[0m\u001b[0;34m.\u001b[0m\u001b[0mprofiler\u001b[0m\u001b[0;34m.\u001b[0m\u001b[0mrecord_function\u001b[0m\u001b[0;34m(\u001b[0m\u001b[0mself\u001b[0m\u001b[0;34m.\u001b[0m\u001b[0m_profile_name\u001b[0m\u001b[0;34m)\u001b[0m\u001b[0;34m:\u001b[0m\u001b[0;34m\u001b[0m\u001b[0;34m\u001b[0m\u001b[0m\n\u001b[0m\u001b[1;32m    698\u001b[0m             \u001b[0;32mif\u001b[0m \u001b[0mself\u001b[0m\u001b[0;34m.\u001b[0m\u001b[0m_sampler_iter\u001b[0m \u001b[0;32mis\u001b[0m \u001b[0;32mNone\u001b[0m\u001b[0;34m:\u001b[0m\u001b[0;34m\u001b[0m\u001b[0;34m\u001b[0m\u001b[0m\n\u001b[1;32m    699\u001b[0m                 \u001b[0;31m# TODO(https://github.com/pytorch/pytorch/issues/76750)\u001b[0m\u001b[0;34m\u001b[0m\u001b[0;34m\u001b[0m\u001b[0m\n",
            "\u001b[0;32m/usr/local/lib/python3.11/dist-packages/torch/autograd/profiler.py\u001b[0m in \u001b[0;36m__exit__\u001b[0;34m(self, exc_type, exc_value, traceback)\u001b[0m\n\u001b[1;32m    736\u001b[0m         \u001b[0;32mreturn\u001b[0m \u001b[0mself\u001b[0m\u001b[0;34m\u001b[0m\u001b[0;34m\u001b[0m\u001b[0m\n\u001b[1;32m    737\u001b[0m \u001b[0;34m\u001b[0m\u001b[0m\n\u001b[0;32m--> 738\u001b[0;31m     \u001b[0;32mdef\u001b[0m \u001b[0m__exit__\u001b[0m\u001b[0;34m(\u001b[0m\u001b[0mself\u001b[0m\u001b[0;34m,\u001b[0m \u001b[0mexc_type\u001b[0m\u001b[0;34m:\u001b[0m \u001b[0mAny\u001b[0m\u001b[0;34m,\u001b[0m \u001b[0mexc_value\u001b[0m\u001b[0;34m:\u001b[0m \u001b[0mAny\u001b[0m\u001b[0;34m,\u001b[0m \u001b[0mtraceback\u001b[0m\u001b[0;34m:\u001b[0m \u001b[0mAny\u001b[0m\u001b[0;34m)\u001b[0m\u001b[0;34m:\u001b[0m\u001b[0;34m\u001b[0m\u001b[0;34m\u001b[0m\u001b[0m\n\u001b[0m\u001b[1;32m    739\u001b[0m         \u001b[0;32mif\u001b[0m \u001b[0;32mnot\u001b[0m \u001b[0mself\u001b[0m\u001b[0;34m.\u001b[0m\u001b[0mrun_callbacks_on_exit\u001b[0m\u001b[0;34m:\u001b[0m\u001b[0;34m\u001b[0m\u001b[0;34m\u001b[0m\u001b[0m\n\u001b[1;32m    740\u001b[0m             \u001b[0;32mreturn\u001b[0m\u001b[0;34m\u001b[0m\u001b[0;34m\u001b[0m\u001b[0m\n",
            "\u001b[0;31mKeyboardInterrupt\u001b[0m: "
          ]
        }
      ],
      "source": [
        "actor.to(device)\n",
        "train_losses = []\n",
        "\n",
        "for epoch in range(epochs):\n",
        "    c = 0\n",
        "    epoch_loss = 0.0\n",
        "    actor.train()\n",
        "    for x_batch, y_batch in train_loader:\n",
        "        c += 1\n",
        "        x_batch, y_batch = x_batch.to(device), y_batch.to(device)\n",
        "        optimizer.zero_grad()\n",
        "\n",
        "\n",
        "        loss = mle_loss(actor, x_batch, y_batch)\n",
        "        loss.backward()\n",
        "\n",
        "        torch.nn.utils.clip_grad_norm_(actor.parameters(), max_norm=1.0)\n",
        "\n",
        "        optimizer.step()\n",
        "\n",
        "        epoch_loss += loss.item()\n",
        "\n",
        "    print('epoch loss: ', epoch_loss)\n",
        "    train_losses.append(epoch_loss / len(train_loader))\n",
        "    if epoch % 1 == 0:\n",
        "        results = evaluate_on_env(actor, device, eval_env, return_target, 5, 1000,\n",
        "                                states_mean, states_std, render=False, state_normalization=True)\n",
        "\n",
        "\n",
        "        eval_d4rl_score = get_normalized_score(results['eval/avg_reward']) * 100\n",
        "        eval_d4rl_std = get_normalized_score(results['eval/std_returns']) * 100\n",
        "        print('Average score: ', eval_d4rl_score)\n",
        "        print('Std score: ', eval_d4rl_std)\n",
        "\n",
        "avg_train_loss = sum(train_losses) / len(train_losses)\n",
        "print(f\"\\nAverage Training Loss: {avg_train_loss:.4f}\")"
      ]
    },
    {
      "cell_type": "markdown",
      "source": [
        "# contrastive learning"
      ],
      "metadata": {
        "id": "JyZNjPQXIy16"
      }
    },
    {
      "cell_type": "code",
      "source": [
        "discounted_rtgs = []\n",
        "\n",
        "for p in paths:\n",
        "\n",
        "  rtg = discount_cumsum(p['rewards'], gamma= 0.9)\n",
        "  discounted_rtgs.append(rtg)"
      ],
      "metadata": {
        "id": "HJbcRc6wI02N"
      },
      "execution_count": 28,
      "outputs": []
    },
    {
      "cell_type": "code",
      "source": [
        "discounted_returns = np.concatenate(discounted_rtgs)"
      ],
      "metadata": {
        "id": "LCWxX4jDI_Q5"
      },
      "execution_count": 37,
      "outputs": []
    },
    {
      "cell_type": "code",
      "source": [
        "discounted_returns"
      ],
      "metadata": {
        "id": "8rp7WDJwJLNF",
        "colab": {
          "base_uri": "https://localhost:8080/"
        },
        "outputId": "4c02a853-8e9c-41aa-f0ff-6931d7297158"
      },
      "execution_count": 38,
      "outputs": [
        {
          "output_type": "execute_result",
          "data": {
            "text/plain": [
              "array([ 9.446801 , 10.718757 , 13.241011 , ..., 21.143465 , 10.998188 ,\n",
              "       -0.9166121], dtype=float32)"
            ]
          },
          "metadata": {},
          "execution_count": 38
        }
      ]
    },
    {
      "cell_type": "code",
      "source": [
        "from collections import defaultdict"
      ],
      "metadata": {
        "id": "-VBVdaCSpL8r"
      },
      "execution_count": 39,
      "outputs": []
    },
    {
      "cell_type": "code",
      "source": [
        "bin_count = 10\n",
        "bin_edges = np.linspace(discounted_returns.min(), discounted_returns.max(), bin_count + 1)\n",
        "\n",
        "\n",
        "binned_indices = np.digitize(discounted_returns, bin_edges, right=True)\n",
        "\n",
        "\n",
        "bin_dict = defaultdict(list)\n",
        "for idx, bin_idx in enumerate(binned_indices):\n",
        "    bin_dict[bin_idx].append(idx)"
      ],
      "metadata": {
        "id": "_E9_IzH3pMZJ"
      },
      "execution_count": 40,
      "outputs": []
    },
    {
      "cell_type": "code",
      "source": [
        "bin_count = 10\n",
        "hist, bin_edges = np.histogram(discounted_returns, bins=bin_count)\n",
        "\n",
        "print(\"Bin edges:\", bin_edges)\n",
        "print(\"Bin counts:\", hist)\n",
        "\n",
        "\n",
        "for i in range(bin_count):\n",
        "    low_edge, high_edge = bin_edges[i], bin_edges[i+1]\n",
        "    print(f\"Bin {i+1} range: [{low_edge:.2f}, {high_edge:.2f}) -> Count: {hist[i]}\")"
      ],
      "metadata": {
        "colab": {
          "base_uri": "https://localhost:8080/"
        },
        "id": "OdNuXQPyrd7-",
        "outputId": "61f5ee48-d6f2-416f-8f94-dabe254f4fac"
      },
      "execution_count": 41,
      "outputs": [
        {
          "output_type": "stream",
          "name": "stdout",
          "text": [
            "Bin edges: [ -9.877843    4.0699024  18.017647   31.965393   45.91314    59.86088\n",
            "  73.80863    87.75637   101.70412   115.65186   129.59961  ]\n",
            "Bin counts: [ 12079  20429  47631 251277 692602  50118  40352  78761 460077 343676]\n",
            "Bin 1 range: [-9.88, 4.07) -> Count: 12079\n",
            "Bin 2 range: [4.07, 18.02) -> Count: 20429\n",
            "Bin 3 range: [18.02, 31.97) -> Count: 47631\n",
            "Bin 4 range: [31.97, 45.91) -> Count: 251277\n",
            "Bin 5 range: [45.91, 59.86) -> Count: 692602\n",
            "Bin 6 range: [59.86, 73.81) -> Count: 50118\n",
            "Bin 7 range: [73.81, 87.76) -> Count: 40352\n",
            "Bin 8 range: [87.76, 101.70) -> Count: 78761\n",
            "Bin 9 range: [101.70, 115.65) -> Count: 460077\n",
            "Bin 10 range: [115.65, 129.60) -> Count: 343676\n"
          ]
        }
      ]
    },
    {
      "cell_type": "code",
      "source": [
        "def sample_contrastive_minibatch(\n",
        "    states,\n",
        "    actions,\n",
        "    discounted_returns,\n",
        "    binned_indices,\n",
        "    bin_dict,\n",
        "    batch_size=64,\n",
        "    num_negatives=4,\n",
        "):\n",
        "    import random\n",
        "    import numpy as np\n",
        "\n",
        "    anchor_indices = np.random.choice(len(states), size=batch_size, replace=False)\n",
        "\n",
        "    anchor_states = states[anchor_indices]\n",
        "    anchor_actions = actions[anchor_indices]\n",
        "    anchor_returns = discounted_returns[anchor_indices]\n",
        "\n",
        "    # Initialize negative actions array\n",
        "    neg_actions = np.zeros((batch_size, num_negatives, actions.shape[1]))\n",
        "\n",
        "    for i, anchor_idx in enumerate(anchor_indices):\n",
        "        anchor_bin = binned_indices[anchor_idx]\n",
        "\n",
        "        # Get indices from different bins\n",
        "        diff_bin_indices = []\n",
        "        for b, idx_list in bin_dict.items():\n",
        "            if b != anchor_bin:\n",
        "                diff_bin_indices.extend(idx_list)\n",
        "\n",
        "        # Sample negative indices\n",
        "        neg_idxs = np.random.choice(diff_bin_indices, size=num_negatives, replace=False)\n",
        "        neg_actions[i] = actions[neg_idxs]\n",
        "\n",
        "    # Add return values to states\n",
        "    anchor_states_with_returns = np.concatenate([\n",
        "        anchor_states,\n",
        "        anchor_returns.reshape(-1, 1)\n",
        "    ], axis=1)\n",
        "\n",
        "    return anchor_states_with_returns, anchor_actions, neg_actions"
      ],
      "metadata": {
        "id": "SFf52zmasaEB"
      },
      "execution_count": 50,
      "outputs": []
    },
    {
      "cell_type": "code",
      "source": [
        "import torch\n",
        "\n",
        "def contrastive_loss(\n",
        "    policy,\n",
        "    obs,         # shape [B, obs_dim]\n",
        "    pos_actions, # shape [B, act_dim]\n",
        "    neg_actions, # shape [B, 4, act_dim]\n",
        "):\n",
        "    B = obs.shape[0] #60\n",
        "    Nneg = neg_actions.shape[1]  # 4\n",
        "\n",
        "    # 1) Positive log-prob\n",
        "    _, log_prob_pos, _ = policy.evaluate_actions(obs, pos_actions)\n",
        "    # shape => [B]\n",
        "\n",
        "    # 2) Negative log-probs (flatten them so SB3 can handle them)\n",
        "    #    expand obs => [B*Nneg, obs_dim]\n",
        "    obs_neg = (\n",
        "        obs.unsqueeze(1)            # => [B, 1, obs_dim]\n",
        "        .expand(-1, Nneg, -1)       # => [B, 4, obs_dim]\n",
        "        .reshape(B * Nneg, -1)      # => [B*4, obs_dim]\n",
        "    )\n",
        "    neg_actions_flat = neg_actions.reshape(B * Nneg, -1)  # => [B*4, act_dim]\n",
        "\n",
        "    _, log_prob_neg, _ = policy.evaluate_actions(obs_neg, neg_actions_flat)\n",
        "    log_prob_neg = log_prob_neg.view(B, Nneg)  # => [B, 4]\n",
        "    log_prob_neg_mean = log_prob_neg.mean(dim=1)  # => [B]\n",
        "\n",
        "    # 3) Final loss\n",
        "    # We want to *maximize* log_prob of positives => minimize(-log_prob_pos)\n",
        "    # We want to *minimize* log_prob of negatives => add the negative log-probs\n",
        "    loss = -log_prob_pos.mean() + log_prob_neg_mean.mean()\n",
        "\n",
        "    return loss\n",
        "\n",
        "\n",
        "### this part is not fully fixed , just changed the mle loss to the loss that i did\n",
        "### could not run the code because i need the gpu on my colab and i have errors when running with the cpu\n",
        "actor.to(device)\n",
        "train_losses = []\n",
        "\n",
        "for epoch in range(epochs):\n",
        "    epoch_loss = 0.0\n",
        "    actor.train()\n",
        "\n",
        "    for batch_idx, (x_batch, y_batch) in enumerate(train_loader):\n",
        "        batch_size = x_batch.shape[0]\n",
        "\n",
        "        # Sample contrastive batch\n",
        "        anchor_states, anchor_actions, neg_actions = sample_contrastive_minibatch(\n",
        "            normalized_states,\n",
        "            actions,\n",
        "            discounted_returns,\n",
        "            binned_indices,\n",
        "            bin_dict,\n",
        "            batch_size=batch_size,\n",
        "            num_negatives=4\n",
        "        )\n",
        "\n",
        "        # Convert to tensors and move to device\n",
        "        anchor_states = torch.tensor(anchor_states, dtype=torch.float32).to(device)\n",
        "        anchor_actions = torch.tensor(anchor_actions, dtype=torch.float32).to(device)\n",
        "        neg_actions = torch.tensor(neg_actions, dtype=torch.float32).to(device)\n",
        "\n",
        "        # Zero gradients\n",
        "        optimizer.zero_grad()\n",
        "\n",
        "        # Calculate contrastive loss\n",
        "        loss = contrastive_loss(\n",
        "            actor,\n",
        "            anchor_states,  # shape: [B, obs_dim + 1]\n",
        "            anchor_actions, # shape: [B, act_dim]\n",
        "            neg_actions    # shape: [B, num_negatives, act_dim]\n",
        "        )\n",
        "\n",
        "        # Backward pass\n",
        "        loss.backward()\n",
        "\n",
        "        # Clip gradients\n",
        "        torch.nn.utils.clip_grad_norm_(actor.parameters(), max_norm=1.0)\n",
        "\n",
        "        # Optimizer step\n",
        "        optimizer.step()\n",
        "\n",
        "        epoch_loss += loss.item()\n",
        "\n",
        "        if batch_idx % 100 == 0:\n",
        "            print(f'Epoch {epoch+1}/{epochs}, Batch {batch_idx}/{len(train_loader)}, '\n",
        "                  f'Loss: {loss.item():.4f}')\n",
        "\n",
        "    avg_epoch_loss = epoch_loss / len(train_loader)\n",
        "    print(f'Epoch {epoch+1}/{epochs}, Average Loss: {avg_epoch_loss:.4f}')\n",
        "    train_losses.append(avg_epoch_loss)\n",
        "\n",
        "    # Evaluation\n",
        "    if epoch % 1 == 0:\n",
        "        results = evaluate_on_env(\n",
        "            actor, device, eval_env, return_target, 5, 1000,\n",
        "            states_mean, states_std, render=False, state_normalization=True\n",
        "        )\n",
        "\n",
        "        eval_d4rl_score = get_normalized_score(results['eval/avg_reward']) * 100\n",
        "        eval_d4rl_std = get_normalized_score(results['eval/std_returns']) * 100\n",
        "        print(f'Average score: {eval_d4rl_score:.2f}')\n",
        "        print(f'Std score: {eval_d4rl_std:.2f}')\n",
        "\n",
        "avg_train_loss = sum(train_losses) / len(train_losses)\n",
        "print(f\"\\nAverage Training Loss: {avg_train_loss:.4f}\")"
      ],
      "metadata": {
        "id": "n488sEOQxXYq",
        "colab": {
          "base_uri": "https://localhost:8080/"
        },
        "outputId": "c14be910-69f2-4954-bc33-46a3c5b48155"
      },
      "execution_count": null,
      "outputs": [
        {
          "output_type": "stream",
          "name": "stdout",
          "text": [
            "Epoch 1/100, Batch 0/3901, Loss: -504.5781\n"
          ]
        }
      ]
    }
  ],
  "metadata": {
    "accelerator": "GPU",
    "colab": {
      "gpuType": "T4",
      "machine_shape": "hm",
      "provenance": []
    },
    "kernelspec": {
      "display_name": "Python 3 (ipykernel)",
      "language": "python",
      "name": "python3"
    },
    "language_info": {
      "codemirror_mode": {
        "name": "ipython",
        "version": 3
      },
      "file_extension": ".py",
      "mimetype": "text/x-python",
      "name": "python",
      "nbconvert_exporter": "python",
      "pygments_lexer": "ipython3",
      "version": "3.8.5"
    }
  },
  "nbformat": 4,
  "nbformat_minor": 0
}